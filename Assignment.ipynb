{
 "cells": [
  {
   "cell_type": "markdown",
   "id": "d4c7be89-fb81-4d7c-9bc2-f681ceed97dd",
   "metadata": {},
   "source": [
    "Ans 1 . "
   ]
  },
  {
   "cell_type": "code",
   "execution_count": 1,
   "id": "ddb3149c-7e41-40f6-958e-82e253d66663",
   "metadata": {},
   "outputs": [],
   "source": [
    "#string \n",
    "a = \"This is first python project\""
   ]
  },
  {
   "cell_type": "code",
   "execution_count": 2,
   "id": "2770a96d-1d0e-4d1e-a945-2d243f00825a",
   "metadata": {},
   "outputs": [
    {
     "data": {
      "text/plain": [
       "str"
      ]
     },
     "execution_count": 2,
     "metadata": {},
     "output_type": "execute_result"
    }
   ],
   "source": [
    "type(a)"
   ]
  },
  {
   "cell_type": "code",
   "execution_count": 3,
   "id": "417a0fb5-33e9-46cc-9bf6-d6ad628ca16a",
   "metadata": {},
   "outputs": [
    {
     "data": {
      "text/plain": [
       "'This is first python project'"
      ]
     },
     "execution_count": 3,
     "metadata": {},
     "output_type": "execute_result"
    }
   ],
   "source": [
    "a"
   ]
  },
  {
   "cell_type": "code",
   "execution_count": 4,
   "id": "407bb784-a165-4528-890a-76dfb8e5f9b6",
   "metadata": {},
   "outputs": [],
   "source": [
    "# list\n",
    "l = [1,2,3,\"python\",546.675,True,6+7j]"
   ]
  },
  {
   "cell_type": "code",
   "execution_count": 5,
   "id": "dd98d00d-c562-4ce9-b5fe-87ba026c204f",
   "metadata": {},
   "outputs": [
    {
     "data": {
      "text/plain": [
       "list"
      ]
     },
     "execution_count": 5,
     "metadata": {},
     "output_type": "execute_result"
    }
   ],
   "source": [
    "type(l)"
   ]
  },
  {
   "cell_type": "code",
   "execution_count": 6,
   "id": "e50c8d03-8348-4937-92a7-f479aa96ccea",
   "metadata": {},
   "outputs": [
    {
     "data": {
      "text/plain": [
       "[1, 2, 3, 'python', 546.675, True, (6+7j)]"
      ]
     },
     "execution_count": 6,
     "metadata": {},
     "output_type": "execute_result"
    }
   ],
   "source": [
    "l"
   ]
  },
  {
   "cell_type": "code",
   "execution_count": 7,
   "id": "13b202a4-0c85-4118-8cdc-5d5e7290030f",
   "metadata": {},
   "outputs": [],
   "source": [
    "#flot\n",
    "d = 678.89"
   ]
  },
  {
   "cell_type": "code",
   "execution_count": 8,
   "id": "0476e5b8-340d-4d45-b934-6d11ce74cd10",
   "metadata": {},
   "outputs": [
    {
     "data": {
      "text/plain": [
       "float"
      ]
     },
     "execution_count": 8,
     "metadata": {},
     "output_type": "execute_result"
    }
   ],
   "source": [
    "type(d)"
   ]
  },
  {
   "cell_type": "code",
   "execution_count": 9,
   "id": "93b15a79-5fb8-4d26-a2ab-8347f84388ce",
   "metadata": {},
   "outputs": [
    {
     "data": {
      "text/plain": [
       "678.89"
      ]
     },
     "execution_count": 9,
     "metadata": {},
     "output_type": "execute_result"
    }
   ],
   "source": [
    "d"
   ]
  },
  {
   "cell_type": "code",
   "execution_count": 10,
   "id": "0c900d72-e237-43ce-bfdb-98e0884f89b5",
   "metadata": {},
   "outputs": [
    {
     "name": "stdout",
     "output_type": "stream",
     "text": [
      "('apple', 'banana', 'cherry')\n"
     ]
    }
   ],
   "source": [
    "# tuple\n",
    "thistuple = tuple((\"apple\", \"banana\", \"cherry\"))\n",
    "print(thistuple)\n"
   ]
  },
  {
   "cell_type": "code",
   "execution_count": 11,
   "id": "56f4be3a-c031-40fb-bf01-0e047302e0e2",
   "metadata": {},
   "outputs": [
    {
     "data": {
      "text/plain": [
       "tuple"
      ]
     },
     "execution_count": 11,
     "metadata": {},
     "output_type": "execute_result"
    }
   ],
   "source": [
    "type(thistuple)"
   ]
  },
  {
   "cell_type": "markdown",
   "id": "af5199d3-b79a-42b2-bdf6-021bb27ebb13",
   "metadata": {},
   "source": [
    "Ans 2. below"
   ]
  },
  {
   "cell_type": "code",
   "execution_count": 12,
   "id": "9a668481-9469-4799-b483-66102bbb6a8a",
   "metadata": {},
   "outputs": [],
   "source": [
    "# var 1 \n",
    "var1 = ''"
   ]
  },
  {
   "cell_type": "code",
   "execution_count": 13,
   "id": "eb421e53-8523-4ea9-a060-84e6d33e94b9",
   "metadata": {},
   "outputs": [
    {
     "data": {
      "text/plain": [
       "str"
      ]
     },
     "execution_count": 13,
     "metadata": {},
     "output_type": "execute_result"
    }
   ],
   "source": [
    "type(var1)"
   ]
  },
  {
   "cell_type": "code",
   "execution_count": 14,
   "id": "3647bef1-7445-4dd2-930b-d7c3cf71c830",
   "metadata": {},
   "outputs": [
    {
     "ename": "SyntaxError",
     "evalue": "invalid character '‘' (U+2018) (723011736.py, line 2)",
     "output_type": "error",
     "traceback": [
      "\u001b[0;36m  Cell \u001b[0;32mIn[14], line 2\u001b[0;36m\u001b[0m\n\u001b[0;31m    var2 = ‘[ DS , ML , Python]’\u001b[0m\n\u001b[0m           ^\u001b[0m\n\u001b[0;31mSyntaxError\u001b[0m\u001b[0;31m:\u001b[0m invalid character '‘' (U+2018)\n"
     ]
    }
   ],
   "source": [
    "#var 2\n",
    "var2 = ‘[ DS , ML , Python]’"
   ]
  },
  {
   "cell_type": "code",
   "execution_count": null,
   "id": "eabc896f-499a-464c-8a01-bfd1aa62380d",
   "metadata": {},
   "outputs": [],
   "source": [
    "type(var2)"
   ]
  },
  {
   "cell_type": "markdown",
   "id": "056824c0-aaba-4066-a2f9-0fe8ad5548ff",
   "metadata": {},
   "source": [
    "The is no such date type for var 2 "
   ]
  },
  {
   "cell_type": "code",
   "execution_count": 28,
   "id": "049815e7-916a-4056-ae45-b84bc44f698d",
   "metadata": {},
   "outputs": [
    {
     "ename": "SyntaxError",
     "evalue": "unterminated string literal (detected at line 2) (361044943.py, line 2)",
     "output_type": "error",
     "traceback": [
      "\u001b[0;36m  Cell \u001b[0;32mIn[28], line 2\u001b[0;36m\u001b[0m\n\u001b[0;31m    var3 = ['DS , ’ML’ , ‘Python’ ]\u001b[0m\n\u001b[0m            ^\u001b[0m\n\u001b[0;31mSyntaxError\u001b[0m\u001b[0;31m:\u001b[0m unterminated string literal (detected at line 2)\n"
     ]
    }
   ],
   "source": [
    "#var3 \n",
    "var3 = ['DS , ’ML’ , ‘Python’ ]"
   ]
  },
  {
   "cell_type": "code",
   "execution_count": null,
   "id": "1fb31f06-9f75-447f-8d2c-056b995567ca",
   "metadata": {},
   "outputs": [],
   "source": [
    "type(var3)\n",
    "# the colon are not used properly so it will also throw an error"
   ]
  },
  {
   "cell_type": "code",
   "execution_count": 30,
   "id": "c7ecba90-3ab0-4577-bbd4-525dd40a9959",
   "metadata": {},
   "outputs": [],
   "source": [
    "#var 4\n",
    "var4 = 1."
   ]
  },
  {
   "cell_type": "code",
   "execution_count": 31,
   "id": "dcfe5039-071c-4ed6-9cb2-0f7f7ba1316d",
   "metadata": {},
   "outputs": [
    {
     "data": {
      "text/plain": [
       "float"
      ]
     },
     "execution_count": 31,
     "metadata": {},
     "output_type": "execute_result"
    }
   ],
   "source": [
    "type(var4)"
   ]
  },
  {
   "cell_type": "code",
   "execution_count": null,
   "id": "76390546-e82a-4ca7-9206-57587be5bf36",
   "metadata": {},
   "outputs": [],
   "source": [
    "var4"
   ]
  },
  {
   "cell_type": "markdown",
   "id": "91380838-afc3-46f1-bc37-35349dfb71d8",
   "metadata": {},
   "source": [
    "Ans 3 Below "
   ]
  },
  {
   "cell_type": "code",
   "execution_count": 27,
   "id": "0cc438c3-3f64-4d43-a8b5-10936ba8a503",
   "metadata": {},
   "outputs": [
    {
     "name": "stdout",
     "output_type": "stream",
     "text": [
      "5.0\n"
     ]
    }
   ],
   "source": [
    "# / (This operator is used for division. It retunrs the flot value when dividing the two integer example below  )\n",
    "\n",
    "x = 10\n",
    "y = 2\n",
    "result = x / y\n",
    "print(result)\n"
   ]
  },
  {
   "cell_type": "code",
   "execution_count": 26,
   "id": "afbef4a5-3fbd-4ab4-b8f2-120694870a7f",
   "metadata": {},
   "outputs": [
    {
     "name": "stdout",
     "output_type": "stream",
     "text": [
      "3\n"
     ]
    }
   ],
   "source": [
    "# // (This operator is called the floor division operator , It returns the floor value of the dvision result ex below  )\n",
    "x = 10\n",
    "y = 3\n",
    "result = x//y\n",
    "print(result)"
   ]
  },
  {
   "cell_type": "code",
   "execution_count": 24,
   "id": "95788a5f-9b12-4236-a319-b8eb1de7d963",
   "metadata": {},
   "outputs": [
    {
     "name": "stdout",
     "output_type": "stream",
     "text": [
      "1\n"
     ]
    }
   ],
   "source": [
    "# % ( The % operator is called the modulo operator in Python. It returns the remainder of dividing number . For example)\n",
    "x = 10\n",
    "y = 3\n",
    "result = x%y\n",
    "print(result)"
   ]
  },
  {
   "cell_type": "code",
   "execution_count": 25,
   "id": "01e0226c-1e43-417b-8326-f2d40f74fd36",
   "metadata": {},
   "outputs": [
    {
     "data": {
      "text/plain": [
       "125"
      ]
     },
     "execution_count": 25,
     "metadata": {},
     "output_type": "execute_result"
    }
   ],
   "source": [
    "# **(This is power operator in python which will allow to multiply the power example beow)\n",
    "5**3"
   ]
  },
  {
   "cell_type": "markdown",
   "id": "a2da867c-5094-4916-aa57-81d2724447e6",
   "metadata": {},
   "source": [
    "Ans 4 : Create a list of length 10 of your choice containing multiple types of data. Using for loop print the\n",
    "element and its data type."
   ]
  },
  {
   "cell_type": "code",
   "execution_count": 32,
   "id": "d0639a27-dba9-42bb-a480-2b8d7ac66696",
   "metadata": {},
   "outputs": [
    {
     "name": "stdout",
     "output_type": "stream",
     "text": [
      "<class 'int'>\n",
      "1\n",
      "<class 'int'>\n",
      "2\n",
      "<class 'int'>\n",
      "3\n",
      "<class 'int'>\n",
      "4\n",
      "<class 'int'>\n",
      "5\n",
      "<class 'int'>\n",
      "6\n",
      "<class 'str'>\n",
      "Python\n",
      "<class 'str'>\n",
      "Project\n",
      "<class 'float'>\n",
      "657.45\n",
      "<class 'bool'>\n",
      "True\n",
      "<class 'complex'>\n",
      "(5+7j)\n"
     ]
    }
   ],
   "source": [
    "k = [1,2,3,4,5,6,\"Python\", \"Project\", 657.45, True, 5+7j]\n",
    "for l in k :\n",
    "    print(type(l))\n",
    "    print (l)"
   ]
  },
  {
   "cell_type": "markdown",
   "id": "8dc615f2-cac0-44b2-888b-6db99b8ee399",
   "metadata": {},
   "source": [
    "Ans 5. "
   ]
  },
  {
   "cell_type": "code",
   "execution_count": 23,
   "id": "54fdc0e9-ca83-42cd-b705-a33f442437d2",
   "metadata": {},
   "outputs": [
    {
     "name": "stdout",
     "output_type": "stream",
     "text": [
      "4 can divide 5.0 1 times \n"
     ]
    }
   ],
   "source": [
    "a = 20\n",
    "b = 4\n",
    "count = 0 \n",
    "while a % b  == 0 :\n",
    "    a = a/b\n",
    "    count +=1 \n",
    "    print(f\"{b} can divide {a} {count} times \")"
   ]
  },
  {
   "cell_type": "markdown",
   "id": "b43bee0c-261c-47d6-9207-6d1b2f5eff06",
   "metadata": {},
   "source": [
    "Ans 6 . "
   ]
  },
  {
   "cell_type": "code",
   "execution_count": 35,
   "id": "87e94ba2-265c-46c3-8fd0-e00ed7f6fb21",
   "metadata": {},
   "outputs": [
    {
     "name": "stdout",
     "output_type": "stream",
     "text": [
      "3 is divisible by 3\n",
      "6 is divisible by 3\n",
      "9 is divisible by 3\n",
      "12 is divisible by 3\n",
      "15 is divisible by 3\n",
      "18 is divisible by 3\n",
      "21 is divisible by 3\n",
      "24 is divisible by 3\n",
      "25 is not divisible by 3 \n"
     ]
    }
   ],
   "source": [
    "l= [1,2,3,4,5,6,7,8,9,10,11,12,13,14,15,16,17,18,19,20,21,22,23,24,25]\n",
    "for g in l :\n",
    "    if g % 3 == 0 :\n",
    "        print (f\"{g} is divisible by 3\")\n",
    "else :\n",
    "    print (f\"{g} is not divisible by 3 \")"
   ]
  },
  {
   "cell_type": "markdown",
   "id": "bfcc3f25-74e7-45aa-9956-700a05849335",
   "metadata": {},
   "source": [
    "7 . What do you understand about mutable and immutable data types? Give examples for both showing\n",
    "this property."
   ]
  },
  {
   "cell_type": "markdown",
   "id": "1bb604a0-3824-4655-9ad7-516306a9b216",
   "metadata": {},
   "source": [
    "Ans : Mutable : In Python, lists are mutable, which means you can modify their elements after they are created. You can add, remove, or change elements within a list.\n",
    " immutable : In Python, strings are immutable, which means you cannot modify their characters after they are created. Once a string object is created, any changes to the string will result in the creation of a new string object.\n"
   ]
  },
  {
   "cell_type": "code",
   "execution_count": 36,
   "id": "371650d7-f62d-4bc5-9a41-52421fe73f33",
   "metadata": {},
   "outputs": [],
   "source": [
    "#example of mutable "
   ]
  },
  {
   "cell_type": "code",
   "execution_count": 37,
   "id": "2563568e-c2c9-44dd-9a9c-f6942509d5b9",
   "metadata": {},
   "outputs": [],
   "source": [
    "l= [1,2.5,7]"
   ]
  },
  {
   "cell_type": "code",
   "execution_count": 38,
   "id": "db2c513a-024d-47fd-ba40-d77b212493fb",
   "metadata": {},
   "outputs": [
    {
     "data": {
      "text/plain": [
       "[1, 2.5, 7]"
      ]
     },
     "execution_count": 38,
     "metadata": {},
     "output_type": "execute_result"
    }
   ],
   "source": [
    "l"
   ]
  },
  {
   "cell_type": "code",
   "execution_count": 40,
   "id": "a40b10c2-8bcd-429a-b877-b0e34f6f4e0e",
   "metadata": {},
   "outputs": [],
   "source": [
    "l[1]= 7.8"
   ]
  },
  {
   "cell_type": "code",
   "execution_count": 41,
   "id": "4a298d42-a7a9-456d-8c34-0400f7d7c34b",
   "metadata": {},
   "outputs": [
    {
     "data": {
      "text/plain": [
       "[1, 7.8, 7]"
      ]
     },
     "execution_count": 41,
     "metadata": {},
     "output_type": "execute_result"
    }
   ],
   "source": [
    "l"
   ]
  },
  {
   "cell_type": "code",
   "execution_count": 42,
   "id": "b61cab25-c0db-496c-9608-d4c2a7dd1e0a",
   "metadata": {},
   "outputs": [],
   "source": [
    "g = 'project'"
   ]
  },
  {
   "cell_type": "code",
   "execution_count": 43,
   "id": "b606436e-b9df-470f-98c9-6648e813b84a",
   "metadata": {},
   "outputs": [
    {
     "data": {
      "text/plain": [
       "str"
      ]
     },
     "execution_count": 43,
     "metadata": {},
     "output_type": "execute_result"
    }
   ],
   "source": [
    "type(g)"
   ]
  },
  {
   "cell_type": "code",
   "execution_count": 45,
   "id": "5d0d9281-b09e-4b8e-b379-42b91485397d",
   "metadata": {},
   "outputs": [
    {
     "data": {
      "text/plain": [
       "'project'"
      ]
     },
     "execution_count": 45,
     "metadata": {},
     "output_type": "execute_result"
    }
   ],
   "source": [
    "g "
   ]
  },
  {
   "cell_type": "code",
   "execution_count": 46,
   "id": "39e2ae08-8ec9-48b6-b20c-152b6f1331cc",
   "metadata": {},
   "outputs": [
    {
     "ename": "TypeError",
     "evalue": "'str' object does not support item assignment",
     "output_type": "error",
     "traceback": [
      "\u001b[0;31m---------------------------------------------------------------------------\u001b[0m",
      "\u001b[0;31mTypeError\u001b[0m                                 Traceback (most recent call last)",
      "Cell \u001b[0;32mIn[46], line 1\u001b[0m\n\u001b[0;32m----> 1\u001b[0m \u001b[43mg\u001b[49m\u001b[43m[\u001b[49m\u001b[38;5;241;43m1\u001b[39;49m\u001b[43m]\u001b[49m\u001b[38;5;241m=\u001b[39m \u001b[38;5;241m0\u001b[39m\n",
      "\u001b[0;31mTypeError\u001b[0m: 'str' object does not support item assignment"
     ]
    }
   ],
   "source": [
    "g[1]= 0"
   ]
  },
  {
   "cell_type": "code",
   "execution_count": null,
   "id": "559bcb4a-eda6-4bcc-be92-504e9f2a3ce0",
   "metadata": {},
   "outputs": [],
   "source": []
  }
 ],
 "metadata": {
  "kernelspec": {
   "display_name": "Python 3 (ipykernel)",
   "language": "python",
   "name": "python3"
  },
  "language_info": {
   "codemirror_mode": {
    "name": "ipython",
    "version": 3
   },
   "file_extension": ".py",
   "mimetype": "text/x-python",
   "name": "python",
   "nbconvert_exporter": "python",
   "pygments_lexer": "ipython3",
   "version": "3.10.8"
  }
 },
 "nbformat": 4,
 "nbformat_minor": 5
}
